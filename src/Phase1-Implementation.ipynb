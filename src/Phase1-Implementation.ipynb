{
  "nbformat": 4,
  "nbformat_minor": 0,
  "metadata": {
    "colab": {
      "provenance": [],
      "gpuType": "T4"
    },
    "kernelspec": {
      "name": "python3",
      "display_name": "Python 3"
    },
    "language_info": {
      "name": "python"
    },
    "accelerator": "GPU"
  },
  "cells": [
    {
      "cell_type": "markdown",
      "source": [
        "<h1>\n",
        "<font color=\"#FA8072\">Install Requirements</font>\n",
        "</h1>"
      ],
      "metadata": {
        "id": "C51klfCUUnyT"
      }
    },
    {
      "cell_type": "code",
      "execution_count": 3,
      "metadata": {
        "colab": {
          "base_uri": "https://localhost:8080/"
        },
        "id": "Mln4dbmDIDa3",
        "outputId": "4d0c26dc-425d-42d5-cb03-87d477244a24"
      },
      "outputs": [
        {
          "output_type": "stream",
          "name": "stdout",
          "text": [
            "Looking in indexes: https://pypi.org/simple, https://us-python.pkg.dev/colab-wheels/public/simple/\n",
            "Requirement already satisfied: beautifulsoup4 in /usr/local/lib/python3.10/dist-packages (4.11.2)\n",
            "Requirement already satisfied: soupsieve>1.2 in /usr/local/lib/python3.10/dist-packages (from beautifulsoup4) (2.4.1)\n",
            "Looking in indexes: https://pypi.org/simple, https://us-python.pkg.dev/colab-wheels/public/simple/\n",
            "Requirement already satisfied: requests in /usr/local/lib/python3.10/dist-packages (2.27.1)\n",
            "Requirement already satisfied: urllib3<1.27,>=1.21.1 in /usr/local/lib/python3.10/dist-packages (from requests) (1.26.15)\n",
            "Requirement already satisfied: certifi>=2017.4.17 in /usr/local/lib/python3.10/dist-packages (from requests) (2022.12.7)\n",
            "Requirement already satisfied: charset-normalizer~=2.0.0 in /usr/local/lib/python3.10/dist-packages (from requests) (2.0.12)\n",
            "Requirement already satisfied: idna<4,>=2.5 in /usr/local/lib/python3.10/dist-packages (from requests) (3.4)\n",
            "Looking in indexes: https://pypi.org/simple, https://us-python.pkg.dev/colab-wheels/public/simple/\n",
            "Requirement already satisfied: urllib3 in /usr/local/lib/python3.10/dist-packages (1.26.15)\n"
          ]
        }
      ],
      "source": [
        "! pip install beautifulsoup4\n",
        "! pip install requests\n",
        "! pip install urllib3"
      ]
    },
    {
      "cell_type": "markdown",
      "source": [
        "<h1>\n",
        "<font color=\"#FA8072\">Mount Drive</font>\n",
        "</h1>"
      ],
      "metadata": {
        "id": "qrfNzYGbVzOF"
      }
    },
    {
      "cell_type": "code",
      "source": [
        "from google.colab import drive\n",
        "drive.mount('/content/gdrive')"
      ],
      "metadata": {
        "colab": {
          "base_uri": "https://localhost:8080/"
        },
        "id": "JYncQjnGSKDp",
        "outputId": "b588de0a-2943-4e46-b287-d30e2cf87e93"
      },
      "execution_count": 2,
      "outputs": [
        {
          "output_type": "stream",
          "name": "stdout",
          "text": [
            "Mounted at /content/gdrive\n"
          ]
        }
      ]
    },
    {
      "cell_type": "markdown",
      "source": [
        "<h1>\n",
        "<font color=\"#FA8072\">Import Requirements</font>\n",
        "</h1>"
      ],
      "metadata": {
        "id": "0mP7X5cGV41Q"
      }
    },
    {
      "cell_type": "code",
      "source": [
        "from bs4 import BeautifulSoup\n",
        "import urllib.request,sys,time\n",
        "import requests\n",
        "import pandas as pd\n",
        "import csv\n",
        "import re\n",
        "import nltk\n",
        "import os\n",
        "import spacy\n",
        "import json\n",
        "import matplotlib.pyplot as plt\n",
        "import seaborn as sns\n",
        "from sklearn.feature_extraction.text import TfidfVectorizer\n",
        "from nltk.tokenize import sent_tokenize\n",
        "from tabulate import tabulate\n",
        "from collections import Counter\n",
        "nltk.download('punkt')"
      ],
      "metadata": {
        "id": "8JMg_vsVIgZa",
        "colab": {
          "base_uri": "https://localhost:8080/"
        },
        "outputId": "7f1a908b-94ae-4941-8882-20be15299c6b"
      },
      "execution_count": 60,
      "outputs": [
        {
          "output_type": "stream",
          "name": "stderr",
          "text": [
            "[nltk_data] Downloading package punkt to /root/nltk_data...\n",
            "[nltk_data]   Package punkt is already up-to-date!\n"
          ]
        },
        {
          "output_type": "execute_result",
          "data": {
            "text/plain": [
              "True"
            ]
          },
          "metadata": {},
          "execution_count": 60
        }
      ]
    },
    {
      "cell_type": "markdown",
      "source": [
        "<h1>\n",
        "<font color=\"#FA8072\">Dataset</font>\n",
        "</h1>"
      ],
      "metadata": {
        "id": "bSY_-fh0c84t"
      }
    },
    {
      "cell_type": "code",
      "source": [
        "def clean_data(text):\n",
        "    cleaned_text = re.sub(r'[^a-zA-Z0-9. $]', '', text)\n",
        "    return cleaned_text"
      ],
      "metadata": {
        "id": "GS04WCQhf6G8"
      },
      "execution_count": 21,
      "outputs": []
    },
    {
      "cell_type": "markdown",
      "source": [
        "<h2>\n",
        "<font color=\"#FA8072\">Raw Data Extraction and Storage</font>\n",
        "</h2>"
      ],
      "metadata": {
        "id": "nsyZOOQIWDYF"
      }
    },
    {
      "cell_type": "code",
      "source": [
        "categories = [\"true\", \"mostly-true\", \"half-true\", \"barely-true\", \"false\", \"pants-fire\"]"
      ],
      "metadata": {
        "id": "AQjKhXm4ulID"
      },
      "execution_count": 33,
      "outputs": []
    },
    {
      "cell_type": "code",
      "source": [
        "max_rows_per_category = 2500  \n",
        "\n",
        "for category in categories:\n",
        "    filename = f\"gdrive/MyDrive/{category}.csv\"\n",
        "\n",
        "    rows = []\n",
        "\n",
        "    for page_num in range(1, 87):\n",
        "        print('Category:', category, 'Page:', page_num)\n",
        "        url = f'https://www.politifact.com/factchecks/list/?page={str(page_num)}&ruling={category}'\n",
        "        try:\n",
        "            response = requests.get(url)\n",
        "        except Exception as e:\n",
        "            error_type, error_obj, error_info = sys.exc_info()\n",
        "            print('ERROR FOR LINK:', url)\n",
        "            print(error_type, 'Line:', error_info.tb_lineno)\n",
        "            continue\n",
        "\n",
        "        time.sleep(2)\n",
        "        soup = BeautifulSoup(response.text, 'html.parser')\n",
        "        links = soup.find_all('li', attrs={'class': 'o-listicle__item'})\n",
        "\n",
        "        for j in links:\n",
        "            statement = j.find(\"div\", attrs={'class': 'm-statement__quote'}).text.strip()\n",
        "            label = j.find('div', attrs={'class': 'm-statement__content'}).find('img', attrs={'class': 'c-image__original'}).get('alt').strip()\n",
        "            rows.append({\"Statement\": statement, \"Label\": label})\n",
        "\n",
        "    df = pd.DataFrame(rows, columns=[\"Statement\", \"Label\"])\n",
        "\n",
        "    df.to_csv(filename, index=False)\n"
      ],
      "metadata": {
        "colab": {
          "base_uri": "https://localhost:8080/"
        },
        "id": "GOwZFO7aAAKM",
        "outputId": "dd7d7761-43f2-499d-8276-ae3076ea7f35"
      },
      "execution_count": 35,
      "outputs": [
        {
          "output_type": "stream",
          "name": "stdout",
          "text": [
            "Category: true Page: 1\n",
            "Category: true Page: 2\n",
            "Category: true Page: 3\n",
            "Category: true Page: 4\n",
            "Category: true Page: 5\n",
            "Category: true Page: 6\n",
            "Category: true Page: 7\n",
            "Category: true Page: 8\n",
            "Category: true Page: 9\n",
            "Category: true Page: 10\n",
            "Category: true Page: 11\n",
            "Category: true Page: 12\n",
            "Category: true Page: 13\n",
            "Category: true Page: 14\n",
            "Category: true Page: 15\n",
            "Category: true Page: 16\n",
            "Category: true Page: 17\n",
            "Category: true Page: 18\n",
            "Category: true Page: 19\n",
            "Category: true Page: 20\n",
            "Category: true Page: 21\n",
            "Category: true Page: 22\n",
            "Category: true Page: 23\n",
            "Category: true Page: 24\n",
            "Category: true Page: 25\n",
            "Category: true Page: 26\n",
            "Category: true Page: 27\n",
            "Category: true Page: 28\n",
            "Category: true Page: 29\n",
            "Category: true Page: 30\n",
            "Category: true Page: 31\n",
            "Category: true Page: 32\n",
            "Category: true Page: 33\n",
            "Category: true Page: 34\n",
            "Category: true Page: 35\n",
            "Category: true Page: 36\n",
            "Category: true Page: 37\n",
            "Category: true Page: 38\n",
            "Category: true Page: 39\n",
            "Category: true Page: 40\n",
            "Category: true Page: 41\n",
            "Category: true Page: 42\n",
            "Category: true Page: 43\n",
            "Category: true Page: 44\n",
            "Category: true Page: 45\n",
            "Category: true Page: 46\n",
            "Category: true Page: 47\n",
            "Category: true Page: 48\n",
            "Category: true Page: 49\n",
            "Category: true Page: 50\n",
            "Category: true Page: 51\n",
            "Category: true Page: 52\n",
            "Category: true Page: 53\n",
            "Category: true Page: 54\n",
            "Category: true Page: 55\n",
            "Category: true Page: 56\n",
            "Category: true Page: 57\n",
            "Category: true Page: 58\n",
            "Category: true Page: 59\n",
            "Category: true Page: 60\n",
            "Category: true Page: 61\n",
            "Category: true Page: 62\n",
            "Category: true Page: 63\n",
            "Category: true Page: 64\n",
            "Category: true Page: 65\n",
            "Category: true Page: 66\n",
            "Category: true Page: 67\n",
            "Category: true Page: 68\n",
            "Category: true Page: 69\n",
            "Category: true Page: 70\n",
            "Category: true Page: 71\n",
            "Category: true Page: 72\n",
            "Category: true Page: 73\n",
            "Category: true Page: 74\n",
            "Category: true Page: 75\n",
            "Category: true Page: 76\n",
            "Category: true Page: 77\n",
            "Category: true Page: 78\n",
            "Category: true Page: 79\n",
            "Category: true Page: 80\n",
            "Category: true Page: 81\n",
            "Category: true Page: 82\n",
            "Category: true Page: 83\n",
            "Category: true Page: 84\n",
            "Category: true Page: 85\n",
            "Category: true Page: 86\n",
            "Category: mostly-true Page: 1\n",
            "Category: mostly-true Page: 2\n",
            "Category: mostly-true Page: 3\n",
            "Category: mostly-true Page: 4\n",
            "Category: mostly-true Page: 5\n",
            "Category: mostly-true Page: 6\n",
            "Category: mostly-true Page: 7\n",
            "Category: mostly-true Page: 8\n",
            "Category: mostly-true Page: 9\n",
            "Category: mostly-true Page: 10\n",
            "Category: mostly-true Page: 11\n",
            "Category: mostly-true Page: 12\n",
            "Category: mostly-true Page: 13\n",
            "Category: mostly-true Page: 14\n",
            "Category: mostly-true Page: 15\n",
            "Category: mostly-true Page: 16\n",
            "Category: mostly-true Page: 17\n",
            "Category: mostly-true Page: 18\n",
            "Category: mostly-true Page: 19\n",
            "Category: mostly-true Page: 20\n",
            "Category: mostly-true Page: 21\n",
            "Category: mostly-true Page: 22\n",
            "Category: mostly-true Page: 23\n",
            "Category: mostly-true Page: 24\n",
            "Category: mostly-true Page: 25\n",
            "Category: mostly-true Page: 26\n",
            "Category: mostly-true Page: 27\n",
            "Category: mostly-true Page: 28\n",
            "Category: mostly-true Page: 29\n",
            "Category: mostly-true Page: 30\n",
            "Category: mostly-true Page: 31\n",
            "Category: mostly-true Page: 32\n",
            "Category: mostly-true Page: 33\n",
            "Category: mostly-true Page: 34\n",
            "Category: mostly-true Page: 35\n",
            "Category: mostly-true Page: 36\n",
            "Category: mostly-true Page: 37\n",
            "Category: mostly-true Page: 38\n",
            "Category: mostly-true Page: 39\n",
            "Category: mostly-true Page: 40\n",
            "Category: mostly-true Page: 41\n",
            "Category: mostly-true Page: 42\n",
            "Category: mostly-true Page: 43\n",
            "Category: mostly-true Page: 44\n",
            "Category: mostly-true Page: 45\n",
            "Category: mostly-true Page: 46\n",
            "Category: mostly-true Page: 47\n",
            "Category: mostly-true Page: 48\n",
            "Category: mostly-true Page: 49\n",
            "Category: mostly-true Page: 50\n",
            "Category: mostly-true Page: 51\n",
            "Category: mostly-true Page: 52\n",
            "Category: mostly-true Page: 53\n",
            "Category: mostly-true Page: 54\n",
            "Category: mostly-true Page: 55\n",
            "Category: mostly-true Page: 56\n",
            "Category: mostly-true Page: 57\n",
            "Category: mostly-true Page: 58\n",
            "Category: mostly-true Page: 59\n",
            "Category: mostly-true Page: 60\n",
            "Category: mostly-true Page: 61\n",
            "Category: mostly-true Page: 62\n",
            "Category: mostly-true Page: 63\n",
            "Category: mostly-true Page: 64\n",
            "Category: mostly-true Page: 65\n",
            "Category: mostly-true Page: 66\n",
            "Category: mostly-true Page: 67\n",
            "Category: mostly-true Page: 68\n",
            "Category: mostly-true Page: 69\n",
            "Category: mostly-true Page: 70\n",
            "Category: mostly-true Page: 71\n",
            "Category: mostly-true Page: 72\n",
            "Category: mostly-true Page: 73\n",
            "Category: mostly-true Page: 74\n",
            "Category: mostly-true Page: 75\n",
            "Category: mostly-true Page: 76\n",
            "Category: mostly-true Page: 77\n",
            "Category: mostly-true Page: 78\n",
            "Category: mostly-true Page: 79\n",
            "Category: mostly-true Page: 80\n",
            "Category: mostly-true Page: 81\n",
            "Category: mostly-true Page: 82\n",
            "Category: mostly-true Page: 83\n",
            "Category: mostly-true Page: 84\n",
            "Category: mostly-true Page: 85\n",
            "Category: mostly-true Page: 86\n",
            "Category: half-true Page: 1\n",
            "Category: half-true Page: 2\n",
            "Category: half-true Page: 3\n",
            "Category: half-true Page: 4\n",
            "Category: half-true Page: 5\n",
            "Category: half-true Page: 6\n",
            "Category: half-true Page: 7\n",
            "Category: half-true Page: 8\n",
            "Category: half-true Page: 9\n",
            "Category: half-true Page: 10\n",
            "Category: half-true Page: 11\n",
            "Category: half-true Page: 12\n",
            "Category: half-true Page: 13\n",
            "Category: half-true Page: 14\n",
            "Category: half-true Page: 15\n",
            "Category: half-true Page: 16\n",
            "Category: half-true Page: 17\n",
            "Category: half-true Page: 18\n",
            "Category: half-true Page: 19\n",
            "Category: half-true Page: 20\n",
            "Category: half-true Page: 21\n",
            "Category: half-true Page: 22\n",
            "Category: half-true Page: 23\n",
            "Category: half-true Page: 24\n",
            "Category: half-true Page: 25\n",
            "Category: half-true Page: 26\n",
            "Category: half-true Page: 27\n",
            "Category: half-true Page: 28\n",
            "Category: half-true Page: 29\n",
            "Category: half-true Page: 30\n",
            "Category: half-true Page: 31\n",
            "Category: half-true Page: 32\n",
            "Category: half-true Page: 33\n",
            "Category: half-true Page: 34\n",
            "Category: half-true Page: 35\n",
            "Category: half-true Page: 36\n",
            "Category: half-true Page: 37\n",
            "Category: half-true Page: 38\n",
            "Category: half-true Page: 39\n",
            "Category: half-true Page: 40\n",
            "Category: half-true Page: 41\n",
            "Category: half-true Page: 42\n",
            "Category: half-true Page: 43\n",
            "Category: half-true Page: 44\n",
            "Category: half-true Page: 45\n",
            "Category: half-true Page: 46\n",
            "Category: half-true Page: 47\n",
            "Category: half-true Page: 48\n",
            "Category: half-true Page: 49\n",
            "Category: half-true Page: 50\n",
            "Category: half-true Page: 51\n",
            "Category: half-true Page: 52\n",
            "Category: half-true Page: 53\n",
            "Category: half-true Page: 54\n",
            "Category: half-true Page: 55\n",
            "Category: half-true Page: 56\n",
            "Category: half-true Page: 57\n",
            "Category: half-true Page: 58\n",
            "Category: half-true Page: 59\n",
            "Category: half-true Page: 60\n",
            "Category: half-true Page: 61\n",
            "Category: half-true Page: 62\n",
            "Category: half-true Page: 63\n",
            "Category: half-true Page: 64\n",
            "Category: half-true Page: 65\n",
            "Category: half-true Page: 66\n",
            "Category: half-true Page: 67\n",
            "Category: half-true Page: 68\n",
            "Category: half-true Page: 69\n",
            "Category: half-true Page: 70\n",
            "Category: half-true Page: 71\n",
            "Category: half-true Page: 72\n",
            "Category: half-true Page: 73\n",
            "Category: half-true Page: 74\n",
            "Category: half-true Page: 75\n",
            "Category: half-true Page: 76\n",
            "Category: half-true Page: 77\n",
            "Category: half-true Page: 78\n",
            "Category: half-true Page: 79\n",
            "Category: half-true Page: 80\n",
            "Category: half-true Page: 81\n",
            "Category: half-true Page: 82\n",
            "Category: half-true Page: 83\n",
            "Category: half-true Page: 84\n",
            "Category: half-true Page: 85\n",
            "Category: half-true Page: 86\n",
            "Category: barely-true Page: 1\n",
            "Category: barely-true Page: 2\n",
            "Category: barely-true Page: 3\n",
            "Category: barely-true Page: 4\n",
            "Category: barely-true Page: 5\n",
            "Category: barely-true Page: 6\n",
            "Category: barely-true Page: 7\n",
            "Category: barely-true Page: 8\n",
            "Category: barely-true Page: 9\n",
            "Category: barely-true Page: 10\n",
            "Category: barely-true Page: 11\n",
            "Category: barely-true Page: 12\n",
            "Category: barely-true Page: 13\n",
            "Category: barely-true Page: 14\n",
            "Category: barely-true Page: 15\n",
            "Category: barely-true Page: 16\n",
            "Category: barely-true Page: 17\n",
            "Category: barely-true Page: 18\n",
            "Category: barely-true Page: 19\n",
            "Category: barely-true Page: 20\n",
            "Category: barely-true Page: 21\n",
            "Category: barely-true Page: 22\n",
            "Category: barely-true Page: 23\n",
            "Category: barely-true Page: 24\n",
            "Category: barely-true Page: 25\n",
            "Category: barely-true Page: 26\n",
            "Category: barely-true Page: 27\n",
            "Category: barely-true Page: 28\n",
            "Category: barely-true Page: 29\n",
            "Category: barely-true Page: 30\n",
            "Category: barely-true Page: 31\n",
            "Category: barely-true Page: 32\n",
            "Category: barely-true Page: 33\n",
            "Category: barely-true Page: 34\n",
            "Category: barely-true Page: 35\n",
            "Category: barely-true Page: 36\n",
            "Category: barely-true Page: 37\n",
            "Category: barely-true Page: 38\n",
            "Category: barely-true Page: 39\n",
            "Category: barely-true Page: 40\n",
            "Category: barely-true Page: 41\n",
            "Category: barely-true Page: 42\n",
            "Category: barely-true Page: 43\n",
            "Category: barely-true Page: 44\n",
            "Category: barely-true Page: 45\n",
            "Category: barely-true Page: 46\n",
            "Category: barely-true Page: 47\n",
            "Category: barely-true Page: 48\n",
            "Category: barely-true Page: 49\n",
            "Category: barely-true Page: 50\n",
            "Category: barely-true Page: 51\n",
            "Category: barely-true Page: 52\n",
            "Category: barely-true Page: 53\n",
            "Category: barely-true Page: 54\n",
            "Category: barely-true Page: 55\n",
            "Category: barely-true Page: 56\n",
            "Category: barely-true Page: 57\n",
            "Category: barely-true Page: 58\n",
            "Category: barely-true Page: 59\n",
            "Category: barely-true Page: 60\n",
            "Category: barely-true Page: 61\n",
            "Category: barely-true Page: 62\n",
            "Category: barely-true Page: 63\n",
            "Category: barely-true Page: 64\n",
            "Category: barely-true Page: 65\n",
            "Category: barely-true Page: 66\n",
            "Category: barely-true Page: 67\n",
            "Category: barely-true Page: 68\n",
            "Category: barely-true Page: 69\n",
            "Category: barely-true Page: 70\n",
            "Category: barely-true Page: 71\n",
            "Category: barely-true Page: 72\n",
            "Category: barely-true Page: 73\n",
            "Category: barely-true Page: 74\n",
            "Category: barely-true Page: 75\n",
            "Category: barely-true Page: 76\n",
            "Category: barely-true Page: 77\n",
            "Category: barely-true Page: 78\n",
            "Category: barely-true Page: 79\n",
            "Category: barely-true Page: 80\n",
            "Category: barely-true Page: 81\n",
            "Category: barely-true Page: 82\n",
            "Category: barely-true Page: 83\n",
            "Category: barely-true Page: 84\n",
            "Category: barely-true Page: 85\n",
            "Category: barely-true Page: 86\n",
            "Category: false Page: 1\n",
            "Category: false Page: 2\n",
            "Category: false Page: 3\n",
            "Category: false Page: 4\n",
            "Category: false Page: 5\n",
            "Category: false Page: 6\n",
            "Category: false Page: 7\n",
            "Category: false Page: 8\n",
            "Category: false Page: 9\n",
            "Category: false Page: 10\n",
            "Category: false Page: 11\n",
            "Category: false Page: 12\n",
            "Category: false Page: 13\n",
            "Category: false Page: 14\n",
            "Category: false Page: 15\n",
            "Category: false Page: 16\n",
            "Category: false Page: 17\n",
            "Category: false Page: 18\n",
            "Category: false Page: 19\n",
            "Category: false Page: 20\n",
            "Category: false Page: 21\n",
            "Category: false Page: 22\n",
            "Category: false Page: 23\n",
            "Category: false Page: 24\n",
            "Category: false Page: 25\n",
            "Category: false Page: 26\n",
            "Category: false Page: 27\n",
            "Category: false Page: 28\n",
            "Category: false Page: 29\n",
            "Category: false Page: 30\n",
            "Category: false Page: 31\n",
            "Category: false Page: 32\n",
            "Category: false Page: 33\n",
            "Category: false Page: 34\n",
            "Category: false Page: 35\n",
            "Category: false Page: 36\n",
            "Category: false Page: 37\n",
            "Category: false Page: 38\n",
            "Category: false Page: 39\n",
            "Category: false Page: 40\n",
            "Category: false Page: 41\n",
            "Category: false Page: 42\n",
            "Category: false Page: 43\n",
            "Category: false Page: 44\n",
            "Category: false Page: 45\n",
            "Category: false Page: 46\n",
            "Category: false Page: 47\n",
            "Category: false Page: 48\n",
            "Category: false Page: 49\n",
            "Category: false Page: 50\n",
            "Category: false Page: 51\n",
            "Category: false Page: 52\n",
            "Category: false Page: 53\n",
            "Category: false Page: 54\n",
            "Category: false Page: 55\n",
            "Category: false Page: 56\n",
            "Category: false Page: 57\n",
            "Category: false Page: 58\n",
            "Category: false Page: 59\n",
            "Category: false Page: 60\n",
            "Category: false Page: 61\n",
            "Category: false Page: 62\n",
            "Category: false Page: 63\n",
            "Category: false Page: 64\n",
            "Category: false Page: 65\n",
            "Category: false Page: 66\n",
            "Category: false Page: 67\n",
            "Category: false Page: 68\n",
            "Category: false Page: 69\n",
            "Category: false Page: 70\n",
            "Category: false Page: 71\n",
            "Category: false Page: 72\n",
            "Category: false Page: 73\n",
            "Category: false Page: 74\n",
            "Category: false Page: 75\n",
            "Category: false Page: 76\n",
            "Category: false Page: 77\n",
            "Category: false Page: 78\n",
            "Category: false Page: 79\n",
            "Category: false Page: 80\n",
            "Category: false Page: 81\n",
            "Category: false Page: 82\n",
            "Category: false Page: 83\n",
            "Category: false Page: 84\n",
            "Category: false Page: 85\n",
            "Category: false Page: 86\n",
            "Category: pants-fire Page: 1\n",
            "Category: pants-fire Page: 2\n",
            "Category: pants-fire Page: 3\n",
            "Category: pants-fire Page: 4\n",
            "Category: pants-fire Page: 5\n",
            "Category: pants-fire Page: 6\n",
            "Category: pants-fire Page: 7\n",
            "Category: pants-fire Page: 8\n",
            "Category: pants-fire Page: 9\n",
            "Category: pants-fire Page: 10\n",
            "Category: pants-fire Page: 11\n",
            "Category: pants-fire Page: 12\n",
            "Category: pants-fire Page: 13\n",
            "Category: pants-fire Page: 14\n",
            "Category: pants-fire Page: 15\n",
            "Category: pants-fire Page: 16\n",
            "Category: pants-fire Page: 17\n",
            "Category: pants-fire Page: 18\n",
            "Category: pants-fire Page: 19\n",
            "Category: pants-fire Page: 20\n",
            "Category: pants-fire Page: 21\n",
            "Category: pants-fire Page: 22\n",
            "Category: pants-fire Page: 23\n",
            "Category: pants-fire Page: 24\n",
            "Category: pants-fire Page: 25\n",
            "Category: pants-fire Page: 26\n",
            "Category: pants-fire Page: 27\n",
            "Category: pants-fire Page: 28\n",
            "Category: pants-fire Page: 29\n",
            "Category: pants-fire Page: 30\n",
            "Category: pants-fire Page: 31\n",
            "Category: pants-fire Page: 32\n",
            "Category: pants-fire Page: 33\n",
            "Category: pants-fire Page: 34\n",
            "Category: pants-fire Page: 35\n",
            "Category: pants-fire Page: 36\n",
            "Category: pants-fire Page: 37\n",
            "Category: pants-fire Page: 38\n",
            "Category: pants-fire Page: 39\n",
            "Category: pants-fire Page: 40\n",
            "Category: pants-fire Page: 41\n",
            "Category: pants-fire Page: 42\n",
            "Category: pants-fire Page: 43\n",
            "Category: pants-fire Page: 44\n",
            "Category: pants-fire Page: 45\n",
            "Category: pants-fire Page: 46\n",
            "Category: pants-fire Page: 47\n",
            "Category: pants-fire Page: 48\n",
            "Category: pants-fire Page: 49\n",
            "Category: pants-fire Page: 50\n",
            "Category: pants-fire Page: 51\n",
            "Category: pants-fire Page: 52\n",
            "Category: pants-fire Page: 53\n",
            "Category: pants-fire Page: 54\n",
            "Category: pants-fire Page: 55\n",
            "Category: pants-fire Page: 56\n",
            "Category: pants-fire Page: 57\n",
            "Category: pants-fire Page: 58\n",
            "Category: pants-fire Page: 59\n",
            "Category: pants-fire Page: 60\n",
            "Category: pants-fire Page: 61\n",
            "Category: pants-fire Page: 62\n",
            "Category: pants-fire Page: 63\n",
            "Category: pants-fire Page: 64\n",
            "Category: pants-fire Page: 65\n",
            "Category: pants-fire Page: 66\n",
            "Category: pants-fire Page: 67\n",
            "Category: pants-fire Page: 68\n",
            "Category: pants-fire Page: 69\n",
            "Category: pants-fire Page: 70\n",
            "Category: pants-fire Page: 71\n",
            "Category: pants-fire Page: 72\n",
            "Category: pants-fire Page: 73\n",
            "Category: pants-fire Page: 74\n",
            "Category: pants-fire Page: 75\n",
            "Category: pants-fire Page: 76\n",
            "Category: pants-fire Page: 77\n",
            "Category: pants-fire Page: 78\n",
            "Category: pants-fire Page: 79\n",
            "Category: pants-fire Page: 80\n",
            "Category: pants-fire Page: 81\n",
            "Category: pants-fire Page: 82\n",
            "Category: pants-fire Page: 83\n",
            "Category: pants-fire Page: 84\n",
            "Category: pants-fire Page: 85\n",
            "Category: pants-fire Page: 86\n"
          ]
        }
      ]
    },
    {
      "cell_type": "markdown",
      "source": [
        "<h2>\n",
        "<font color=\"#FA8072\">Make Data Clean and Remove Extra Things</font>\n",
        "</h2>"
      ],
      "metadata": {
        "id": "fumyPp7AZWdG"
      }
    },
    {
      "cell_type": "code",
      "source": [
        "input_files = [\"gdrive/MyDrive/true.csv\", \"gdrive/MyDrive/mostly-true.csv\", \"gdrive/MyDrive/half-true.csv\",\n",
        "               \"gdrive/MyDrive/barely-true.csv\", \"gdrive/MyDrive/false.csv\", \"gdrive/MyDrive/pants-fire.csv\"]\n",
        "\n",
        "output_files = [\"gdrive/MyDrive/true-cleaned.csv\", \"gdrive/MyDrive/mostly-true-cleaned.csv\", \"gdrive/MyDrive/half-true-cleaned.csv\",\n",
        "                \"gdrive/MyDrive/barely-true-cleaned.csv\", \"gdrive/MyDrive/false-cleaned.csv\", \"gdrive/MyDrive/pants-fire-cleaned.csv\"]\n",
        "\n",
        "for input_file, output_file in zip(input_files, output_files):\n",
        "    with open(input_file, \"r\", encoding='utf-8') as f_in:\n",
        "        reader = csv.reader(f_in)\n",
        "        header = next(reader)  \n",
        "\n",
        "        with open(output_file, \"w\", encoding='utf-8', newline='') as f_out:\n",
        "            writer = csv.writer(f_out)\n",
        "            writer.writerow(header)  \n",
        "\n",
        "            for row in reader:\n",
        "                statement = clean_data(row[0])\n",
        "                label = row[1]\n",
        "\n",
        "                writer.writerow([statement, label])\n",
        "\n",
        "    print(f\"Data cleaned and stored in {output_file}\")\n"
      ],
      "metadata": {
        "colab": {
          "base_uri": "https://localhost:8080/"
        },
        "id": "wwpf1M-3JCCk",
        "outputId": "06337520-08e7-4492-9a86-5d5b976c6a3b"
      },
      "execution_count": 36,
      "outputs": [
        {
          "output_type": "stream",
          "name": "stdout",
          "text": [
            "Data cleaned and stored in gdrive/MyDrive/true-cleaned.csv\n",
            "Data cleaned and stored in gdrive/MyDrive/mostly-true-cleaned.csv\n",
            "Data cleaned and stored in gdrive/MyDrive/half-true-cleaned.csv\n",
            "Data cleaned and stored in gdrive/MyDrive/barely-true-cleaned.csv\n",
            "Data cleaned and stored in gdrive/MyDrive/false-cleaned.csv\n",
            "Data cleaned and stored in gdrive/MyDrive/pants-fire-cleaned.csv\n"
          ]
        }
      ]
    },
    {
      "cell_type": "markdown",
      "source": [
        "<h2>\n",
        "<font color=\"#FA8072\">Separate Data by Sentence</font>\n",
        "</h2>"
      ],
      "metadata": {
        "id": "Xv1Q5Kw_kABH"
      }
    },
    {
      "cell_type": "code",
      "source": [
        "input_files = [\"gdrive/MyDrive/true-cleaned.csv\", \"gdrive/MyDrive/mostly-true-cleaned.csv\",\n",
        "               \"gdrive/MyDrive/half-true-cleaned.csv\", \"gdrive/MyDrive/barely-true-cleaned.csv\",\n",
        "               \"gdrive/MyDrive/false-cleaned.csv\", \"gdrive/MyDrive/pants-fire-cleaned.csv\"]\n",
        "\n",
        "output_files = [\"gdrive/MyDrive/true-sentences.csv\", \"gdrive/MyDrive/mostly-true-sentences.csv\",\n",
        "                \"gdrive/MyDrive/half-true-sentences.csv\", \"gdrive/MyDrive/barely-true-sentences.csv\",\n",
        "                \"gdrive/MyDrive/false-sentences.csv\", \"gdrive/MyDrive/pants-fire-sentences.csv\"]\n",
        "\n",
        "for input_file, output_file in zip(input_files, output_files):\n",
        "    data = []\n",
        "    with open(input_file, \"r\", encoding='utf-8') as f_in:\n",
        "        reader = pd.read_csv(f_in)\n",
        "\n",
        "        for row in reader.itertuples(index=False):\n",
        "            statement = row[0]\n",
        "            label = row[1]\n",
        "\n",
        "            statement_sentences = nltk.sent_tokenize(statement)\n",
        "            output = json.dumps(statement_sentences)\n",
        "            data.append({\"Statement\": output, \"Label\": label})\n",
        "\n",
        "    df = pd.DataFrame(data, columns=[\"Statement\", \"Label\"])\n",
        "    df.to_csv(output_file, index=False)\n",
        "\n",
        "    print(f\"Sentences saved in {output_file}\")"
      ],
      "metadata": {
        "colab": {
          "base_uri": "https://localhost:8080/"
        },
        "id": "XDefTz30rkr5",
        "outputId": "ccf6cc57-5dec-412b-842d-de70ed2955fa"
      },
      "execution_count": 37,
      "outputs": [
        {
          "output_type": "stream",
          "name": "stdout",
          "text": [
            "Sentences saved in gdrive/MyDrive/true-sentences.csv\n",
            "Sentences saved in gdrive/MyDrive/mostly-true-sentences.csv\n",
            "Sentences saved in gdrive/MyDrive/half-true-sentences.csv\n",
            "Sentences saved in gdrive/MyDrive/barely-true-sentences.csv\n",
            "Sentences saved in gdrive/MyDrive/false-sentences.csv\n",
            "Sentences saved in gdrive/MyDrive/pants-fire-sentences.csv\n"
          ]
        }
      ]
    },
    {
      "cell_type": "markdown",
      "source": [
        "<h2>\n",
        "<font color=\"#FA8072\">Separate Data by Word</font>\n",
        "</h2>"
      ],
      "metadata": {
        "id": "zUJkMeofJK4l"
      }
    },
    {
      "cell_type": "code",
      "source": [
        "nlp = spacy.load(\"en_core_web_sm\")\n",
        "\n",
        "input_files = [\n",
        "    \"gdrive/MyDrive/true-cleaned.csv\",\n",
        "    \"gdrive/MyDrive/mostly-true-cleaned.csv\",\n",
        "    \"gdrive/MyDrive/half-true-cleaned.csv\",\n",
        "    \"gdrive/MyDrive/barely-true-cleaned.csv\",\n",
        "    \"gdrive/MyDrive/false-cleaned.csv\",\n",
        "    \"gdrive/MyDrive/pants-fire-cleaned.csv\"\n",
        "]\n",
        "\n",
        "output_files = [\n",
        "    \"gdrive/MyDrive/true-words.csv\",\n",
        "    \"gdrive/MyDrive/mostly-true-words.csv\",\n",
        "    \"gdrive/MyDrive/half-true-words.csv\",\n",
        "    \"gdrive/MyDrive/barely-true-words.csv\",\n",
        "    \"gdrive/MyDrive/false-words.csv\",\n",
        "    \"gdrive/MyDrive/pants-fire-words.csv\"\n",
        "]\n",
        "\n",
        "for input_file, output_file in zip(input_files, output_files):\n",
        "    df = pd.read_csv(input_file)\n",
        "\n",
        "    tokenized_words = []\n",
        "    labels = []\n",
        "    for row in df.itertuples(index=False):\n",
        "        statement = row.Statement\n",
        "        label = row.Label\n",
        "\n",
        "        doc = nlp(statement)\n",
        "        tokenized_words.append([token.text for token in doc])\n",
        "        labels.append(label)\n",
        "\n",
        "    df_tokenized = pd.DataFrame({\"Tokenized Statement\": tokenized_words, \"Label\": labels})\n",
        "\n",
        "    df_tokenized.to_csv(output_file, index=False)\n",
        "\n",
        "    print(f\"Tokenized words and labels saved in {output_file}\")"
      ],
      "metadata": {
        "colab": {
          "base_uri": "https://localhost:8080/"
        },
        "id": "0mEVDA2V13LY",
        "outputId": "d2f53a62-cfdd-401c-cbb2-5db2c13f82a6"
      },
      "execution_count": 38,
      "outputs": [
        {
          "output_type": "stream",
          "name": "stdout",
          "text": [
            "Tokenized words and labels saved in gdrive/MyDrive/true-words.csv\n",
            "Tokenized words and labels saved in gdrive/MyDrive/mostly-true-words.csv\n",
            "Tokenized words and labels saved in gdrive/MyDrive/half-true-words.csv\n",
            "Tokenized words and labels saved in gdrive/MyDrive/barely-true-words.csv\n",
            "Tokenized words and labels saved in gdrive/MyDrive/false-words.csv\n",
            "Tokenized words and labels saved in gdrive/MyDrive/pants-fire-words.csv\n"
          ]
        }
      ]
    },
    {
      "cell_type": "markdown",
      "source": [
        "<h1>\n",
        "<font color=\"#FA8072\">Stats</font>\n",
        "</h1>"
      ],
      "metadata": {
        "id": "uJlaBzBdczNG"
      }
    },
    {
      "cell_type": "code",
      "source": [
        "def get_file_size(file_path):\n",
        "    return os.path.getsize(file_path)"
      ],
      "metadata": {
        "id": "gY9V9bpsRIxx"
      },
      "execution_count": 39,
      "outputs": []
    },
    {
      "cell_type": "code",
      "source": [
        "def calculate_data_size(file_paths):\n",
        "    total_size = 0\n",
        "    for file_path in file_paths:\n",
        "        size = get_file_size(file_path)\n",
        "        total_size += size\n",
        "    return total_size"
      ],
      "metadata": {
        "id": "yOzTNvQdRv9B"
      },
      "execution_count": 40,
      "outputs": []
    },
    {
      "cell_type": "markdown",
      "source": [
        "<h2>\n",
        "<font color=\"#FA8072\">Data Size Before/After Data Cleaning</font>\n",
        "</h2>"
      ],
      "metadata": {
        "id": "btVn0psdRIQp"
      }
    },
    {
      "cell_type": "code",
      "source": [
        "input_files_before_cleaning = [\n",
        "    \"gdrive/MyDrive/true.csv\",\n",
        "    \"gdrive/MyDrive/mostly-true.csv\",\n",
        "    \"gdrive/MyDrive/half-true.csv\",\n",
        "    \"gdrive/MyDrive/barely-true.csv\",\n",
        "    \"gdrive/MyDrive/false.csv\",\n",
        "    \"gdrive/MyDrive/pants-fire.csv\"\n",
        "]\n",
        "\n",
        "total_size_before_cleaning = calculate_data_size(input_files_before_cleaning)\n",
        "\n",
        "output_files_after_cleaning = [\n",
        "    \"gdrive/MyDrive/true-cleaned.csv\",\n",
        "    \"gdrive/MyDrive/mostly-true-cleaned.csv\",\n",
        "    \"gdrive/MyDrive/half-true-cleaned.csv\",\n",
        "    \"gdrive/MyDrive/barely-true-cleaned.csv\",\n",
        "    \"gdrive/MyDrive/false-cleaned.csv\",\n",
        "    \"gdrive/MyDrive/pants-fire-cleaned.csv\"\n",
        "]\n",
        "\n",
        "total_size_after_cleaning = calculate_data_size(output_files_after_cleaning)\n",
        "\n",
        "print(\"Data Size Before Cleaning: {} bytes\".format(total_size_before_cleaning))\n",
        "print(\"Data Size After Cleaning: {} bytes\".format(total_size_after_cleaning))"
      ],
      "metadata": {
        "colab": {
          "base_uri": "https://localhost:8080/"
        },
        "id": "f3qRwiWyRypq",
        "outputId": "6a9b5d83-1d62-46d1-cf16-87b03207e1ab"
      },
      "execution_count": 41,
      "outputs": [
        {
          "metadata": {
            "tags": null
          },
          "name": "stdout",
          "output_type": "stream",
          "text": [
            "Data Size Before Cleaning: 1878218 bytes\n",
            "Data Size After Cleaning: 1770027 bytes\n"
          ]
        }
      ]
    },
    {
      "cell_type": "markdown",
      "source": [
        "<h2>\n",
        "<font color=\"#FA8072\">A. Number of \"Units\" of Data</font>\n",
        "</h2>"
      ],
      "metadata": {
        "id": "dA9uwPdpdvJQ"
      }
    },
    {
      "cell_type": "code",
      "source": [
        "input_files = [\"gdrive/MyDrive/true.csv\", \"gdrive/MyDrive/mostly-true.csv\",\n",
        "               \"gdrive/MyDrive/half-true.csv\", \"gdrive/MyDrive/barely-true.csv\",\n",
        "               \"gdrive/MyDrive/false.csv\", \"gdrive/MyDrive/pants-fire.csv\"]\n",
        "\n",
        "output_file = \"gdrive/MyDrive/data-counts.csv\"\n",
        "\n",
        "label_counts = []\n",
        "for input_file in input_files:\n",
        "    if input_file == input_files[0]:\n",
        "        label = \"TRUE\"\n",
        "    elif input_file == input_files[1]:\n",
        "        label = \"mostly-true\"\n",
        "    elif input_file == input_files[2]:\n",
        "        label = \"half-true\"\n",
        "    elif input_file == input_files[3]:\n",
        "        label = \"barely-true\"\n",
        "    elif input_file == input_files[4]:\n",
        "        label = \"FALSE\"\n",
        "    elif input_file == input_files[5]:\n",
        "        label = \"pants-fire\"\n",
        "    df = pd.read_csv(input_file)\n",
        "    count = df.shape[0]\n",
        "    label_counts.append({\"Label\": label, \"Count\": count})\n",
        "\n",
        "df_counts = pd.DataFrame(label_counts, columns=[\"Label\", \"Count\"])\n",
        "df_counts.to_csv(output_file, index=False)\n",
        "\n",
        "print(\"Label counts saved in\", output_file)"
      ],
      "metadata": {
        "colab": {
          "base_uri": "https://localhost:8080/"
        },
        "id": "vcIW36mOdYol",
        "outputId": "44393b4c-178f-4fde-8d97-19a00e36ff7b"
      },
      "execution_count": 46,
      "outputs": [
        {
          "output_type": "stream",
          "name": "stdout",
          "text": [
            "Label counts saved in gdrive/MyDrive/data-counts.csv\n"
          ]
        }
      ]
    },
    {
      "cell_type": "markdown",
      "source": [
        "<h2>\n",
        "<font color=\"#FA8072\">B. Number of Sentences of Data</font>\n",
        "</h2>"
      ],
      "metadata": {
        "id": "Nxn7SZnYj8Tg"
      }
    },
    {
      "cell_type": "code",
      "source": [
        "input_files = [\"gdrive/MyDrive/true-sentences.csv\", \"gdrive/MyDrive/mostly-true-sentences.csv\",\n",
        "               \"gdrive/MyDrive/half-true-sentences.csv\", \"gdrive/MyDrive/barely-true-sentences.csv\",\n",
        "               \"gdrive/MyDrive/false-sentences.csv\", \"gdrive/MyDrive/pants-fire-sentences.csv\"]\n",
        "\n",
        "output_file = \"gdrive/MyDrive/sentence-counts.csv\"\n",
        "\n",
        "sentences_count = []\n",
        "for input_file in input_files:\n",
        "    if input_file == input_files[0]:\n",
        "        label = \"TRUE\"\n",
        "    elif input_file == input_files[1]:\n",
        "        label = \"mostly-true\"\n",
        "    elif input_file == input_files[2]:\n",
        "        label = \"half-true\"\n",
        "    elif input_file == input_files[3]:\n",
        "        label = \"barely-true\"\n",
        "    elif input_file == input_files[4]:\n",
        "        label = \"FALSE\"\n",
        "    elif input_file == input_files[5]:\n",
        "        label = \"pants-fire\"\n",
        "    df = pd.read_csv(input_file)\n",
        "    count = 0\n",
        "    for row in df[\"Statement\"]:\n",
        "        sentences = eval(row)\n",
        "        count += len(sentences) \n",
        "    sentences_count.append({\"Label\": label, \"Sentences Count\": count})\n",
        "\n",
        "df_counts = pd.DataFrame(sentences_count, columns=[\"Label\", \"Sentences Count\"])\n",
        "df_counts.to_csv(output_file, index=False)\n",
        "\n",
        "print(\"Sentence counts saved in\", output_file)"
      ],
      "metadata": {
        "colab": {
          "base_uri": "https://localhost:8080/"
        },
        "id": "WkpjYmiUfBXV",
        "outputId": "f28c19e4-9680-4d17-91a6-a62d59001727"
      },
      "execution_count": 47,
      "outputs": [
        {
          "output_type": "stream",
          "name": "stdout",
          "text": [
            "Sentence counts saved in gdrive/MyDrive/sentence-counts.csv\n"
          ]
        }
      ]
    },
    {
      "cell_type": "markdown",
      "source": [
        "<h2>\n",
        "<font color=\"#FA8072\">C. Number of Words of Data</font>\n",
        "</h2>"
      ],
      "metadata": {
        "id": "RE0YRW55u_gZ"
      }
    },
    {
      "cell_type": "code",
      "source": [
        "input_files = [\"gdrive/MyDrive/true-words.csv\", \"gdrive/MyDrive/mostly-true-words.csv\",\n",
        "               \"gdrive/MyDrive/half-true-words.csv\", \"gdrive/MyDrive/barely-true-words.csv\",\n",
        "               \"gdrive/MyDrive/false-words.csv\", \"gdrive/MyDrive/pants-fire-words.csv\"]\n",
        "\n",
        "output_file = \"gdrive/MyDrive/word-counts.csv\"\n",
        "\n",
        "words_count = []\n",
        "for input_file in input_files:\n",
        "    if input_file == input_files[0]:\n",
        "        label = \"TRUE\"\n",
        "    elif input_file == input_files[1]:\n",
        "        label = \"mostly-true\"\n",
        "    elif input_file == input_files[2]:\n",
        "        label = \"half-true\"\n",
        "    elif input_file == input_files[3]:\n",
        "        label = \"barely-true\"\n",
        "    elif input_file == input_files[4]:\n",
        "        label = \"FALSE\"\n",
        "    elif input_file == input_files[5]:\n",
        "        label = \"pants-fire\"\n",
        "    df = pd.read_csv(input_file)\n",
        "    count = 0\n",
        "    for row in df[\"Tokenized Statement\"]:\n",
        "        words = eval(row)\n",
        "        count += len(words) \n",
        "    words_count.append({\"Label\": label, \"Words Count\": count})\n",
        "\n",
        "df_counts = pd.DataFrame(words_count, columns=[\"Label\", \"Words Count\"])\n",
        "df_counts.to_csv(output_file, index=False)\n",
        "\n",
        "print(\"Sentence counts saved in\", output_file)"
      ],
      "metadata": {
        "colab": {
          "base_uri": "https://localhost:8080/"
        },
        "id": "6GLbJoFkkJmi",
        "outputId": "098cf49c-fa6b-4223-b939-4cea9971019e"
      },
      "execution_count": 48,
      "outputs": [
        {
          "output_type": "stream",
          "name": "stdout",
          "text": [
            "Sentence counts saved in gdrive/MyDrive/word-counts.csv\n"
          ]
        }
      ]
    },
    {
      "cell_type": "markdown",
      "source": [
        "<h2>\n",
        "<font color=\"#FA8072\">D. Unique Word Count</font>\n",
        "</h2>"
      ],
      "metadata": {
        "id": "npjOCPlg5GoY"
      }
    },
    {
      "cell_type": "code",
      "source": [
        "input_files = [\n",
        "    \"gdrive/MyDrive/true-words.csv\",\n",
        "    \"gdrive/MyDrive/mostly-true-words.csv\",\n",
        "    \"gdrive/MyDrive/half-true-words.csv\",\n",
        "    \"gdrive/MyDrive/barely-true-words.csv\",\n",
        "    \"gdrive/MyDrive/false-words.csv\",\n",
        "    \"gdrive/MyDrive/pants-fire-words.csv\"\n",
        "]\n",
        "\n",
        "output_file = \"gdrive/MyDrive/unique-word-counts.csv\"\n",
        "\n",
        "word_counts = []\n",
        "for input_file in input_files:\n",
        "    if input_file == input_files[0]:\n",
        "        label = \"TRUE\"\n",
        "    elif input_file == input_files[1]:\n",
        "        label = \"mostly-true\"\n",
        "    elif input_file == input_files[2]:\n",
        "        label = \"half-true\"\n",
        "    elif input_file == input_files[3]:\n",
        "        label = \"barely-true\"\n",
        "    elif input_file == input_files[4]:\n",
        "        label = \"FALSE\"\n",
        "    elif input_file == input_files[5]:\n",
        "        label = \"pants-fire\"\n",
        "    df = pd.read_csv(input_file)\n",
        "    unique_words = set()\n",
        "    for row in df[\"Tokenized Statement\"]:\n",
        "        words = eval(row)\n",
        "        unique_words.update(words)\n",
        "    count = len(unique_words)\n",
        "    word_counts.append({\"Label\": label, \"Unique Words Count\": count})\n",
        "\n",
        "df_counts = pd.DataFrame(word_counts, columns=[\"Label\", \"Unique Words Count\"])\n",
        "df_counts.to_csv(output_file, index=False)\n",
        "\n",
        "print(\"Unique word counts saved in\", output_file)"
      ],
      "metadata": {
        "colab": {
          "base_uri": "https://localhost:8080/"
        },
        "id": "RaZX1ENbvi_O",
        "outputId": "229a52b4-da5a-4c54-b581-daae8229e22c"
      },
      "execution_count": 49,
      "outputs": [
        {
          "output_type": "stream",
          "name": "stdout",
          "text": [
            "Unique word counts saved in gdrive/MyDrive/unique-word-counts.csv\n"
          ]
        }
      ]
    },
    {
      "cell_type": "markdown",
      "source": [
        "<h2>\n",
        "<font color=\"#FA8072\">E. Number of Unique Words Common and Uncommon between Labels</font>\n",
        "</h2>"
      ],
      "metadata": {
        "id": "eBkRhhqP5Pc2"
      }
    },
    {
      "cell_type": "code",
      "source": [
        "input_files = [\n",
        "    \"gdrive/MyDrive/true-words.csv\",\n",
        "    \"gdrive/MyDrive/mostly-true-words.csv\",\n",
        "    \"gdrive/MyDrive/half-true-words.csv\",\n",
        "    \"gdrive/MyDrive/barely-true-words.csv\",\n",
        "    \"gdrive/MyDrive/false-words.csv\",\n",
        "    \"gdrive/MyDrive/pants-fire-words.csv\"\n",
        "]\n",
        "\n",
        "output_file = \"gdrive/MyDrive/common-uncommon-counts.csv\"\n",
        "\n",
        "word_counts = []\n",
        "labels = []\n",
        "\n",
        "for input_file in input_files:\n",
        "    label = input_file.split(\"/\")[-1].split(\"-\")[0].upper()\n",
        "    labels.append(label)\n",
        "    df = pd.read_csv(input_file)\n",
        "    words = set()\n",
        "    for row in df[\"Tokenized Statement\"]:\n",
        "        words.update(eval(row))\n",
        "    word_counts.append(words)\n",
        "\n",
        "common_words = set.intersection(*word_counts)\n",
        "uncommon_words = set.union(*word_counts) - common_words\n",
        "\n",
        "data = {\n",
        "    \"Common\": [len(common_words)],\n",
        "    \"Uncommon\": [len(uncommon_words)]\n",
        "}\n",
        "df_counts = pd.DataFrame(data)\n",
        "\n",
        "df_counts.to_csv(output_file, index=False)\n",
        "\n",
        "print(\"Word counts saved in\", output_file)"
      ],
      "metadata": {
        "colab": {
          "base_uri": "https://localhost:8080/"
        },
        "id": "ofjohrul5WfB",
        "outputId": "92b7ce34-d65b-422a-e24f-d7ebb3823843"
      },
      "execution_count": 50,
      "outputs": [
        {
          "output_type": "stream",
          "name": "stdout",
          "text": [
            "Word counts saved in gdrive/MyDrive/common-uncommon-counts.csv\n"
          ]
        }
      ]
    },
    {
      "cell_type": "markdown",
      "source": [
        "<h2>\n",
        "<font color=\"#FA8072\">F. 10 Most Frequent Non-Shared Words from Each Label</font>\n",
        "</h2>"
      ],
      "metadata": {
        "id": "TVS_4-le5XAf"
      }
    },
    {
      "cell_type": "code",
      "source": [
        "input_files = [\n",
        "    \"gdrive/MyDrive/true-words.csv\",\n",
        "    \"gdrive/MyDrive/mostly-true-words.csv\",\n",
        "    \"gdrive/MyDrive/half-true-words.csv\",\n",
        "    \"gdrive/MyDrive/barely-true-words.csv\",\n",
        "    \"gdrive/MyDrive/false-words.csv\",\n",
        "    \"gdrive/MyDrive/pants-fire-words.csv\"\n",
        "]\n",
        "\n",
        "output_file = \"gdrive/MyDrive/most-frequent-uncommon-words.csv\"\n",
        "\n",
        "labels = []\n",
        "word_counts = []\n",
        "\n",
        "for input_file in input_files:\n",
        "    if input_file == input_files[0]:\n",
        "        label = \"TRUE\"\n",
        "    elif input_file == input_files[1]:\n",
        "        label = \"mostly-true\"\n",
        "    elif input_file == input_files[2]:\n",
        "        label = \"half-true\"\n",
        "    elif input_file == input_files[3]:\n",
        "        label = \"barely-true\"\n",
        "    elif input_file == input_files[4]:\n",
        "        label = \"FALSE\"\n",
        "    elif input_file == input_files[5]:\n",
        "        label = \"pants-fire\"\n",
        "    labels.append(label)\n",
        "    df = pd.read_csv(input_file)\n",
        "    words = []\n",
        "    for row in df[\"Tokenized Statement\"]:\n",
        "        words.extend(eval(row))\n",
        "    word_counts.append(Counter(words))\n",
        "\n",
        "most_frequent_words = []\n",
        "for i in range(10):\n",
        "    row = []\n",
        "    for counts in word_counts:\n",
        "        non_shared_words = [word for word, count in counts.items() if count == 1]\n",
        "        most_frequent = sorted(non_shared_words, key=lambda w: counts[w], reverse=True)\n",
        "        row.append(most_frequent[i] if i < len(most_frequent) else \"\")\n",
        "    most_frequent_words.append(row)\n",
        "\n",
        "columns = labels\n",
        "df_most_frequent = pd.DataFrame(most_frequent_words, columns=columns)\n",
        "\n",
        "df_most_frequent.to_csv(output_file, index=False)\n",
        "\n",
        "print(\"Most frequent words saved in\", output_file)"
      ],
      "metadata": {
        "colab": {
          "base_uri": "https://localhost:8080/"
        },
        "id": "LQ5DPVyy5dwF",
        "outputId": "748bb657-7551-4119-891a-adebea3874f2"
      },
      "execution_count": 53,
      "outputs": [
        {
          "output_type": "stream",
          "name": "stdout",
          "text": [
            "Most frequent words saved in gdrive/MyDrive/most-frequent-uncommon-words.csv\n"
          ]
        }
      ]
    },
    {
      "cell_type": "markdown",
      "source": [
        "<h2>\n",
        "<font color=\"#FA8072\">G. Top 10 Common Words of Each Label Compared to Other Labels (Relative Frequency)</font>\n",
        "</h2>"
      ],
      "metadata": {
        "id": "5HG1Ct5m5dVp"
      }
    },
    {
      "cell_type": "code",
      "source": [
        "input_files = [\n",
        "    \"gdrive/MyDrive/true-words.csv\",\n",
        "    \"gdrive/MyDrive/mostly-true-words.csv\",\n",
        "    \"gdrive/MyDrive/half-true-words.csv\",\n",
        "    \"gdrive/MyDrive/barely-true-words.csv\",\n",
        "    \"gdrive/MyDrive/false-words.csv\",\n",
        "    \"gdrive/MyDrive/pants-fire-words.csv\"\n",
        "]\n",
        "\n",
        "output_file = \"gdrive/MyDrive/top-relative-frequency-words.csv\"\n",
        "\n",
        "labels = []\n",
        "word_counts = []\n",
        "\n",
        "for input_file in input_files:\n",
        "    if input_file == input_files[0]:\n",
        "        label = \"TRUE\"\n",
        "    elif input_file == input_files[1]:\n",
        "        label = \"mostly-true\"\n",
        "    elif input_file == input_files[2]:\n",
        "        label = \"half-true\"\n",
        "    elif input_file == input_files[3]:\n",
        "        label = \"barely-true\"\n",
        "    elif input_file == input_files[4]:\n",
        "        label = \"FALSE\"\n",
        "    elif input_file == input_files[5]:\n",
        "        label = \"pants-fire\"\n",
        "    labels.append(label)\n",
        "    df = pd.read_csv(input_file)\n",
        "    words = []\n",
        "    for row in df[\"Tokenized Statement\"]:\n",
        "        words.extend([word for word in eval(row) if word != \".\"])\n",
        "    word_counts.append(Counter(words))\n",
        "\n",
        "top_common_words = []\n",
        "for i in range(10):\n",
        "    row = []\n",
        "    for j, counts in enumerate(word_counts):\n",
        "        common_words = [word for word, count in counts.items()]\n",
        "        total_words_in_label = sum(counts.values())\n",
        "        relative_frequency = [(word, count / total_words_in_label) for word, count in counts.items()]\n",
        "        sorted_common = sorted(relative_frequency, key=lambda x: x[1], reverse=True)\n",
        "        row.append(sorted_common[i][0] if i < len(sorted_common) else \"\")\n",
        "    top_common_words.append(row)\n",
        "\n",
        "columns = labels\n",
        "df_top_common = pd.DataFrame(top_common_words, columns=columns)\n",
        "\n",
        "df_top_common.to_csv(output_file, index=False)\n",
        "\n",
        "print(\"Top common words saved in\", output_file)"
      ],
      "metadata": {
        "colab": {
          "base_uri": "https://localhost:8080/"
        },
        "id": "1eqON1jA5i_C",
        "outputId": "c7cf8b3e-90dd-4b41-f5d6-b0cd1ba50dec"
      },
      "execution_count": 55,
      "outputs": [
        {
          "output_type": "stream",
          "name": "stdout",
          "text": [
            "Top common words saved in gdrive/MyDrive/top-relative-frequency-words.csv\n"
          ]
        }
      ]
    },
    {
      "cell_type": "markdown",
      "source": [
        "<h2>\n",
        "<font color=\"#FA8072\">H. Top 10 Words of Each Label based on TF-IDF($w_i$)</font>\n",
        "</h2>"
      ],
      "metadata": {
        "id": "ENmqrqM-Hs-y"
      }
    },
    {
      "cell_type": "code",
      "source": [
        "input_files = [\n",
        "    \"gdrive/MyDrive/true-words.csv\",\n",
        "    \"gdrive/MyDrive/mostly-true-words.csv\",\n",
        "    \"gdrive/MyDrive/half-true-words.csv\",\n",
        "    \"gdrive/MyDrive/barely-true-words.csv\",\n",
        "    \"gdrive/MyDrive/false-words.csv\",\n",
        "    \"gdrive/MyDrive/pants-fire-words.csv\"\n",
        "]\n",
        "\n",
        "output_file = \"gdrive/MyDrive/top-tf-idf-words.csv\"\n",
        "\n",
        "labels = []\n",
        "corpus = []\n",
        "\n",
        "for input_file in input_files:\n",
        "    if input_file == input_files[0]:\n",
        "        label = \"TRUE\"\n",
        "    elif input_file == input_files[1]:\n",
        "        label = \"mostly-true\"\n",
        "    elif input_file == input_files[2]:\n",
        "        label = \"half-true\"\n",
        "    elif input_file == input_files[3]:\n",
        "        label = \"barely-true\"\n",
        "    elif input_file == input_files[4]:\n",
        "        label = \"FALSE\"\n",
        "    elif input_file == input_files[5]:\n",
        "        label = \"pants-fire\"\n",
        "    labels.append(label)\n",
        "    df = pd.read_csv(input_file)\n",
        "    corpus.extend(df[\"Tokenized Statement\"])\n",
        "\n",
        "vectorizer = TfidfVectorizer()\n",
        "tfidf_matrix = vectorizer.fit_transform(corpus)\n",
        "\n",
        "top_tfidf_words = []\n",
        "for i, label in enumerate(labels):\n",
        "    feature_names = vectorizer.get_feature_names_out()\n",
        "    label_tfidf_scores = tfidf_matrix[i].toarray()[0]\n",
        "    top_indices = label_tfidf_scores.argsort()[:-11:-1]\n",
        "    top_words = [feature_names[idx] for idx in top_indices]\n",
        "    top_tfidf_words.append(top_words)\n",
        "\n",
        "df_top_tfidf = pd.DataFrame(top_tfidf_words).T\n",
        "df_top_tfidf.columns = labels\n",
        "\n",
        "df_top_tfidf.to_csv(output_file, index=False)\n",
        "\n",
        "print(\"Top TF-IDF words saved in\", output_file)"
      ],
      "metadata": {
        "colab": {
          "base_uri": "https://localhost:8080/"
        },
        "id": "p2uHQMU8Gpgz",
        "outputId": "07640e8a-c779-4499-c9a1-3be1df5acc10"
      },
      "execution_count": 59,
      "outputs": [
        {
          "output_type": "stream",
          "name": "stdout",
          "text": [
            "Top TF-IDF words saved in gdrive/MyDrive/top-tf-idf-words.csv\n"
          ]
        }
      ]
    },
    {
      "cell_type": "markdown",
      "source": [
        "<h2>\n",
        "<font color=\"#FA8072\">I. Histogram of the Number of Repetitions of Each Unique Word</font>\n",
        "</h2>"
      ],
      "metadata": {
        "id": "6LocpE6wJ7W5"
      }
    },
    {
      "cell_type": "code",
      "source": [
        "input_files = [\n",
        "    \"gdrive/MyDrive/true-words.csv\",\n",
        "    \"gdrive/MyDrive/mostly-true-words.csv\",\n",
        "    \"gdrive/MyDrive/half-true-words.csv\",\n",
        "    \"gdrive/MyDrive/barely-true-words.csv\",\n",
        "    \"gdrive/MyDrive/false-words.csv\",\n",
        "    \"gdrive/MyDrive/pants-fire-words.csv\"\n",
        "]\n",
        "\n",
        "# Output file paths\n",
        "output_files = [\n",
        "    \"gdrive/MyDrive/true-histogram.png\",\n",
        "    \"gdrive/MyDrive/mostly-true-histogram.png\",\n",
        "    \"gdrive/MyDrive/half-true-histogram.png\",\n",
        "    \"gdrive/MyDrive/barely-true-histogram.png\",\n",
        "    \"gdrive/MyDrive/false-histogram.png\",\n",
        "    \"gdrive/MyDrive/pants-fire-histogram.png\"\n",
        "]\n",
        "\n",
        "for input_file, output_file in zip(input_files, output_files):\n",
        "    if input_file == input_files[0]:\n",
        "        label = \"TRUE\"\n",
        "    elif input_file == input_files[1]:\n",
        "        label = \"mostly-true\"\n",
        "    elif input_file == input_files[2]:\n",
        "        label = \"half-true\"\n",
        "    elif input_file == input_files[3]:\n",
        "        label = \"barely-true\"\n",
        "    elif input_file == input_files[4]:\n",
        "        label = \"FALSE\"\n",
        "    elif input_file == input_files[5]:\n",
        "        label = \"pants-fire\"\n",
        "    \n",
        "    df = pd.read_csv(input_file)\n",
        "    \n",
        "    tokenized_statements = [token for sublist in df[\"Tokenized Statement\"] for token in eval(sublist)]\n",
        "    \n",
        "    word_counts = pd.Series(tokenized_statements).value_counts()\n",
        "  \n",
        "    plt.bar(range(len(word_counts)), word_counts.values, color='skyblue')\n",
        "    plt.xlabel('Words')\n",
        "    plt.ylabel('Occurrences')\n",
        "    plt.title(f'Histogram of Word Occurrences for {label}')\n",
        "    plt.ylim(0, 1000)\n",
        "    plt.tight_layout()\n",
        "    \n",
        "    plt.savefig(output_file)"
      ],
      "metadata": {
        "colab": {
          "base_uri": "https://localhost:8080/",
          "height": 487
        },
        "id": "xT9WqVfdIYHo",
        "outputId": "9bbe81ed-feee-429e-8b93-53ac0973a740"
      },
      "execution_count": 70,
      "outputs": [
        {
          "output_type": "display_data",
          "data": {
            "text/plain": [
              "<Figure size 640x480 with 1 Axes>"
            ],
            "image/png": "[encoded data removed]"
          },
          "metadata": {}
        }
      ]
    },
    {
      "cell_type": "code",
      "source": [],
      "metadata": {
        "id": "nSN4duKiX53q"
      },
      "execution_count": null,
      "outputs": []
    }
  ]
}